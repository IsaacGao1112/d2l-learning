{
 "cells": [
  {
   "cell_type": "code",
   "execution_count": 1,
   "metadata": {},
   "outputs": [],
   "source": [
    "import numpy as np\n",
    "import torch\n",
    "from torch.utils import data\n",
    "from d2l import torch as d2l"
   ]
  },
  {
   "attachments": {},
   "cell_type": "markdown",
   "metadata": {},
   "source": [
    "# 生成数据集"
   ]
  },
  {
   "cell_type": "code",
   "execution_count": 2,
   "metadata": {},
   "outputs": [],
   "source": [
    "true_w = torch.tensor([2,-3.4])\n",
    "true_b = 4.2\n",
    "# 这里synthetic_data函数跟3.2的自己实现的那个是一样的\n",
    "# d2l库相当于提供了参考答案，这一节不需要再写一遍了，所以直接调用一下答案就能用了\n",
    "features,labels = d2l.synthetic_data(true_w,true_b,1000)"
   ]
  },
  {
   "attachments": {},
   "cell_type": "markdown",
   "metadata": {},
   "source": [
    "# 读取数据集"
   ]
  },
  {
   "cell_type": "code",
   "execution_count": 3,
   "metadata": {},
   "outputs": [],
   "source": [
    "def load_array(data_arrays,batch_size,is_train = True):\n",
    "    # 这里的data_arrays一般不是一个array，而是标准数据集的data和labels对\n",
    "    # 用这里的变量定义输入就是data_arrays = (features,labels)\n",
    "    # 调用data.TensorDataset出来的dataset就是定义好的数据集类型\n",
    "    dataset = data.TensorDataset(*data_arrays)\n",
    "    # 然后因为我们训练是要batch化训练，因此定义一个dataloader\n",
    "    # 这个dataloader对象对应的是linearRegression里面的data_iter函数，可以在for循环作为条件进行调用的\n",
    "    # 每次返回一个batch\n",
    "    return data.DataLoader(dataset,batch_size,shuffle=is_train)\n",
    "    # 至于那个is_Train，如果是训练，那么每一次迭代肯定需要将序号打乱，所以如果是训练，那么就shuffle"
   ]
  },
  {
   "cell_type": "code",
   "execution_count": 5,
   "metadata": {},
   "outputs": [],
   "source": [
    "batch_size = 10\n",
    "# 定义batch数据迭代器\n",
    "data_iter = load_array((features,labels),batch_size=batch_size)"
   ]
  },
  {
   "cell_type": "code",
   "execution_count": 15,
   "metadata": {},
   "outputs": [
    {
     "name": "stdout",
     "output_type": "stream",
     "text": [
      "[tensor([[-0.0445,  1.0809],\n",
      "        [-0.4747,  1.4277],\n",
      "        [ 0.6821,  1.6613],\n",
      "        [-0.9305, -1.0961],\n",
      "        [ 0.7010, -0.1225],\n",
      "        [-1.7373,  3.0658],\n",
      "        [-1.2886, -1.7702],\n",
      "        [-0.0651, -0.0982],\n",
      "        [-1.6570,  0.4912],\n",
      "        [ 1.3796,  0.3791]]), tensor([[ 0.4411],\n",
      "        [-1.5873],\n",
      "        [-0.0970],\n",
      "        [ 6.0606],\n",
      "        [ 6.0208],\n",
      "        [-9.6828],\n",
      "        [ 7.6346],\n",
      "        [ 4.3945],\n",
      "        [-0.7778],\n",
      "        [ 5.6643]])] 2 torch.Size([10, 2])\n"
     ]
    }
   ],
   "source": [
    "# 这里试试这个dataloader\n",
    "# 调用方法如下，需要先将dataloader强制转化成迭代器\n",
    "# 再用迭代器的next方法索引出一个batch\n",
    "smt1 = next(iter(data_iter))\n",
    "print(smt1,len(smt1),smt1[0].shape)\n",
    "# 返回的是一个batch的(x,y)\n",
    "# 用括号括起来的是list，每个元素是什么类型无所谓。\n",
    "# 但是list里面的x和y元素都是tensor"
   ]
  },
  {
   "attachments": {
    "image.png": {
     "image/png": "[encoded data removed]"
    }
   },
   "cell_type": "markdown",
   "metadata": {},
   "source": [
    "# 定义模型（function set）\n",
    "\n",
    "这里定义模型就要用到torch里的nn库，nn库就是neural network的简写\n",
    "本节我们只做最基本的linear regression，仅需用到sequential和linear两个定义\n",
    "\n",
    "linear指的是一个神经元，这个神经元输入到输出是线性的。即$y=\\sum w_ix_i +b$\n",
    "linear和后面ReLU和sigmoid是同级的函数\n",
    "然后里面用括号括起来的参数，一个是输入的个数一个是输出的个数。这里是二输入一输出。\n",
    "\n",
    "![image.png](attachment:image.png)\n",
    "\n",
    "参考文献：https://blog.csdn.net/zhaohongfei_358/article/details/122797190\n",
    "\n",
    "sequential是层连接函数，不过本节只有一个层，所以看不出来具体的应用。后面应该还会提。"
   ]
  },
  {
   "cell_type": "code",
   "execution_count": 18,
   "metadata": {},
   "outputs": [
    {
     "name": "stdout",
     "output_type": "stream",
     "text": [
      "<class 'torch.nn.modules.container.Sequential'> <class 'torch.nn.modules.linear.Linear'>\n"
     ]
    }
   ],
   "source": [
    "from torch import nn\n",
    "net = nn.Sequential(nn.Linear(2,1))\n",
    "print(type(net),type(net[0]))\n",
    "# sequential就可以往里填各种层，用逗号隔开就可以\n",
    "# 然后用类似数组的方式索引的时候就是每一个层"
   ]
  },
  {
   "cell_type": "code",
   "execution_count": 24,
   "metadata": {},
   "outputs": [
    {
     "name": "stdout",
     "output_type": "stream",
     "text": [
      "tensor([1., 3.])\n",
      "tensor([-0.0094,  0.0102])\n"
     ]
    }
   ],
   "source": [
    "net[0].weight.data.normal_(0,0.01)\n",
    "net[0].bias.data.fill_(0)\n",
    "# 由下面例子可知，这里weight和bias是nn.Linear的属性\n",
    "# 然后weight和bias本身都是张量，后面的data.normal_和data.fill_都是tensor本身的方法\n",
    "# normal_是正态分布的随机数，fill_是用输入填充tensor，两个方法都是为了让模型有个初始值\n",
    "testTensor1 = torch.tensor([1.0,3.0])\n",
    "print(testTensor1)\n",
    "testTensor1.data.normal_(0,0.01)\n",
    "print(testTensor1)\n"
   ]
  },
  {
   "attachments": {},
   "cell_type": "markdown",
   "metadata": {},
   "source": [
    "# 定义Loss Function"
   ]
  },
  {
   "cell_type": "code",
   "execution_count": null,
   "metadata": {},
   "outputs": [],
   "source": [
    "loss = nn.MSELoss()# MSE:mean square error均方误差"
   ]
  },
  {
   "attachments": {},
   "cell_type": "markdown",
   "metadata": {},
   "source": [
    "# 定义优化算法（optimizer）\n",
    "\n",
    "optimizer需要从torch.optim里面选，这里用到了SGD（stochastic gradient descent，随机梯度下降）方法，然后其输入是优化的参数，学习率，以及需不需要momentum\n",
    "\n",
    "然后这里面net.parameters()就是当前网络中所有的参数。都给到SGD中"
   ]
  },
  {
   "cell_type": "code",
   "execution_count": 26,
   "metadata": {},
   "outputs": [
    {
     "name": "stdout",
     "output_type": "stream",
     "text": [
      "<generator object Module.parameters at 0x0000020A87093E08>\n"
     ]
    }
   ],
   "source": [
    "print(net.parameters())\n",
    "trainer = torch.optim.SGD(net.parameters(),lr=0.03)"
   ]
  },
  {
   "attachments": {},
   "cell_type": "markdown",
   "metadata": {},
   "source": [
    "# 训练"
   ]
  },
  {
   "cell_type": "code",
   "execution_count": null,
   "metadata": {},
   "outputs": [],
   "source": []
  }
 ],
 "metadata": {
  "kernelspec": {
   "display_name": "torchCoding",
   "language": "python",
   "name": "torchcoding"
  },
  "language_info": {
   "codemirror_mode": {
    "name": "ipython",
    "version": 3
   },
   "file_extension": ".py",
   "mimetype": "text/x-python",
   "name": "python",
   "nbconvert_exporter": "python",
   "pygments_lexer": "ipython3",
   "version": "3.6.2"
  },
  "orig_nbformat": 4
 },
 "nbformat": 4,
 "nbformat_minor": 2
}
